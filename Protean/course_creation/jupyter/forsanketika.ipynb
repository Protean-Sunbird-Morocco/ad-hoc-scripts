{
 "cells": [
  {
   "cell_type": "code",
   "execution_count": 1,
   "id": "5338cc11",
   "metadata": {},
   "outputs": [],
   "source": [
    "# !! pip3 install openpyxl\n",
    "import pandas as pd\n"
   ]
  },
  {
   "cell_type": "code",
   "execution_count": null,
   "id": "6abb290a",
   "metadata": {},
   "outputs": [],
   "source": [
    "quiz = pd.read_csv('../csv/quiz.csv')"
   ]
  },
  {
   "cell_type": "code",
   "execution_count": null,
   "id": "68b4d9c4",
   "metadata": {},
   "outputs": [],
   "source": [
    "quiz.columns"
   ]
  },
  {
   "cell_type": "code",
   "execution_count": null,
   "id": "7638d11f",
   "metadata": {},
   "outputs": [],
   "source": [
    "questions = quiz[['Question_code', 'Question',\n",
    "       'option 1', 'answer', 'option 3', 'answer.1', 'option 4', 'answer.2',\n",
    "       'option5', 'answer.3', 'option6', 'answer.4', 'option7', 'answer.5',\n",
    "       'option8', 'answer.6']]\n",
    "\n",
    "questions = questions.rename(columns={\n",
    "    \"Question_code\":\"code\",\n",
    "    \"Question\":\"question_text\",\n",
    "    \"option 1\":\"option_1\",\n",
    "    \"answer\":\"option_1_is_correct\",\n",
    "    \"option 3\":\"option_2\",\n",
    "    \"answer.1\":\"option_2_is_correct\",\n",
    "    \"option 4\":\"option_3\",\n",
    "    \"answer.2\":\"option_3_is_correct\",\n",
    "    'option5':'option_4',\n",
    "    'answer.3':'option_4_is_correct',\n",
    "    'option6':'option_5',\n",
    "    'answer.4':'option_5_is_correct',\n",
    "    'option7':'option_6',\n",
    "    'answer.5':'option_6_is_correct',\n",
    "    'option8':'option_7',\n",
    "    'answer.6':'option_7_is_correct'\n",
    "})\n",
    "questions.dropna(inplace=True,how='all')\n",
    "questions['score'] = 1"
   ]
  },
  {
   "cell_type": "code",
   "execution_count": null,
   "id": "46d8bdea",
   "metadata": {},
   "outputs": [],
   "source": [
    "questions"
   ]
  },
  {
   "cell_type": "code",
   "execution_count": null,
   "id": "18b7dbae",
   "metadata": {},
   "outputs": [],
   "source": [
    "questions.to_excel('../csv/sanketika_questions.xlsx', index=False)\n"
   ]
  },
  {
   "cell_type": "code",
   "execution_count": null,
   "id": "e03eeef8",
   "metadata": {},
   "outputs": [],
   "source": [
    "quiz = quiz[['QUIZ_CODE ', 'Question_code']]\n",
    "quiz = quiz.rename(columns=\n",
    "                   {\n",
    "        \"QUIZ_CODE\":\"code\",\n",
    "        \"Question_code\":\"questions\"\n",
    "    }\n",
    ").dropna(how='all').fillna(method='ffill')"
   ]
  },
  {
   "cell_type": "code",
   "execution_count": null,
   "id": "3158097d",
   "metadata": {},
   "outputs": [],
   "source": [
    "x = quiz.to_dict(orient='index')\n",
    "out = {}"
   ]
  },
  {
   "cell_type": "code",
   "execution_count": null,
   "id": "2cb18fd3",
   "metadata": {},
   "outputs": [],
   "source": [
    "for i in x:\n",
    "    if out.get(x[i]['QUIZ_CODE ']) == None:\n",
    "        out[x[i]['QUIZ_CODE ']]  = [x[i]['questions']]\n",
    "    else:\n",
    "        out[x[i]['QUIZ_CODE ']].append(x[i]['questions'])\n",
    "\n",
    "for i in out:\n",
    "    out[i] = ','.join(out[i])"
   ]
  },
  {
   "cell_type": "code",
   "execution_count": null,
   "id": "02f81ad3",
   "metadata": {},
   "outputs": [],
   "source": [
    "quiz = pd.DataFrame.from_dict(out, orient='index').reset_index()\n",
    "quiz.columns = ['code', 'questions']\n",
    "quiz['quiz_name'] = quiz['code']\n",
    "quiz['max_attempts'] = 3\n",
    "quiz['language'] = 'Arabic'\n",
    "quiz['quiz_type'] = 'practice'\n",
    "\n",
    "quiz.to_excel('../csv/sanketika_quiz.xlsx', index=False)"
   ]
  },
  {
   "cell_type": "code",
   "execution_count": null,
   "id": "577ff426",
   "metadata": {},
   "outputs": [],
   "source": []
  }
 ],
 "metadata": {
  "kernelspec": {
   "display_name": ".venv",
   "language": "python",
   "name": "python3"
  },
  "language_info": {
   "codemirror_mode": {
    "name": "ipython",
    "version": 3
   },
   "file_extension": ".py",
   "mimetype": "text/x-python",
   "name": "python",
   "nbconvert_exporter": "python",
   "pygments_lexer": "ipython3",
   "version": "3.13.3"
  }
 },
 "nbformat": 4,
 "nbformat_minor": 5
}
