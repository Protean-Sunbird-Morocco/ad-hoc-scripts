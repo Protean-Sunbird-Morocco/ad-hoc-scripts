{
 "cells": [
  {
   "cell_type": "code",
   "execution_count": 24,
   "id": "5338cc11",
   "metadata": {},
   "outputs": [],
   "source": [
    "# !! pip3 install openpyxl\n",
    "import pandas as pd\n"
   ]
  },
  {
   "cell_type": "code",
   "execution_count": null,
   "id": "6abb290a",
   "metadata": {},
   "outputs": [],
   "source": [
    "quiz = pd.read_csv('../csv/input_quiz_11072025.csv')\n",
    "content = pd.read_csv('../csv/new_content.csv')\n",
    "content = content[['content_name', 'content_code']]\n",
    "content = content[~content['content_code'].str.contains('_V')]\n",
    "content.rename(columns={'content_name': 'quiz_name', 'content_code': 'code'}, inplace=True)\n"
   ]
  },
  {
   "cell_type": "code",
   "execution_count": 26,
   "id": "248b367d",
   "metadata": {
    "vscode": {
     "languageId": "javascript"
    }
   },
   "outputs": [],
   "source": [
    "quiz = quiz.drop(columns=['COURSE_CODE', 'COURSE_TITLE', 'MODULES_TITLE', 'MODULE_CODE', 'url video']).dropna(how='all')\n",
    "\n"
   ]
  },
  {
   "cell_type": "code",
   "execution_count": 27,
   "id": "d295ed9c",
   "metadata": {},
   "outputs": [],
   "source": [
    "# quiz = quiz[['Quiz_code', 'Code_Question ', 'Quiz', 'option 1',\n",
    "#        'answer', 'option 2', 'answer.1', 'option 4', 'answer.2', 'option5',\n",
    "#        'answer.3', 'option6', 'answer.4', 'option7', 'answer.5', 'option8',\n",
    "#        'answer.6', 'Unnamed: 22', 'Unnamed: 23', 'Unnamed: 24', 'Unnamed: 25',\n",
    "#        'Unnamed: 26', 'Unnamed: 27']]\n",
    "quiz = quiz[['Quiz_code', 'Code_Question ', 'Quiz', 'option 1',\n",
    "       'answer', 'option 2', 'answer.1', 'option 4', 'answer.2', 'option5',\n",
    "       'answer.3', 'option6', 'answer.4', 'option7', 'answer.5', 'option8',\n",
    "       'answer.6']]\n",
    "# .drop(columns=['Unnamed: 22', 'Unnamed: 23', 'Unnamed: 24', 'Unnamed: 25','Unnamed: 26','Unnamed: 27'])\n",
    "quiz.dropna(inplace=True,how='all')\n",
    "quiz = quiz.dropna(subset=['Code_Question '])"
   ]
  },
  {
   "cell_type": "code",
   "execution_count": 28,
   "id": "68b4d9c4",
   "metadata": {},
   "outputs": [
    {
     "data": {
      "text/plain": [
       "(225, 17)"
      ]
     },
     "execution_count": 28,
     "metadata": {},
     "output_type": "execute_result"
    }
   ],
   "source": [
    "quiz.dropna(subset=['Quiz'], inplace=True)\n",
    "quiz.shape"
   ]
  },
  {
   "cell_type": "code",
   "execution_count": 29,
   "id": "7638d11f",
   "metadata": {},
   "outputs": [],
   "source": [
    "questions = quiz[['Code_Question ', 'Quiz', 'option 1', 'answer', 'option 2',\n",
    "       'answer.1', 'option 4', 'answer.2', 'option5', 'answer.3', 'option6',\n",
    "       'answer.4', 'option7', 'answer.5', 'option8', 'answer.6']]\n",
    "\n",
    "questions = questions.rename(columns={\n",
    "    \"Code_Question \":\"code\",\n",
    "    \"Quiz\":\"question_text\",\n",
    "    \"option 1\":\"option_1\",\n",
    "    \"answer\":\"option_1_is_correct\",\n",
    "    \"option 2\":\"option_2\",\n",
    "    \"answer.1\":\"option_2_is_correct\",\n",
    "    \"option 4\":\"option_3\",\n",
    "    \"answer.2\":\"option_3_is_correct\",\n",
    "    'option5':'option_4',\n",
    "    'answer.3':'option_4_is_correct',\n",
    "    'option6':'option_5',\n",
    "    'answer.4':'option_5_is_correct',\n",
    "    'option7':'option_6',\n",
    "    'answer.5':'option_6_is_correct',\n",
    "    'option8':'option_7',\n",
    "    'answer.6':'option_7_is_correct'\n",
    "})\n",
    "# questions.dropna(inplace=True,how='all')\n",
    "questions['score'] = 1\n",
    "questions['language'] = 'Arabic'"
   ]
  },
  {
   "cell_type": "code",
   "execution_count": 30,
   "id": "ebf824a9",
   "metadata": {},
   "outputs": [],
   "source": [
    "questions = questions.dropna(subset=['question_text'])"
   ]
  },
  {
   "cell_type": "code",
   "execution_count": 31,
   "id": "c3c5927c",
   "metadata": {},
   "outputs": [
    {
     "data": {
      "text/plain": [
       "Index(['code', 'question_text', 'option_1', 'option_1_is_correct', 'option_2',\n",
       "       'option_2_is_correct', 'option_3', 'option_3_is_correct', 'option_4',\n",
       "       'option_4_is_correct', 'option_5', 'option_5_is_correct', 'option_6',\n",
       "       'option_6_is_correct', 'option_7', 'option_7_is_correct', 'score',\n",
       "       'language'],\n",
       "      dtype='object')"
      ]
     },
     "execution_count": 31,
     "metadata": {},
     "output_type": "execute_result"
    }
   ],
   "source": [
    "questions.columns"
   ]
  },
  {
   "cell_type": "code",
   "execution_count": 32,
   "id": "5930381c",
   "metadata": {},
   "outputs": [],
   "source": [
    "cols = ['option_1_is_correct', 'option_2_is_correct', 'option_3_is_correct', 'option_4_is_correct','option_5_is_correct','option_6_is_correct','option_7_is_correct']\n",
    "# for col in cols:\n",
    "#     questions[col] = questions[col].replace({'VRAI': 'true', 'FAUX': 'false'}).str.lower()"
   ]
  },
  {
   "cell_type": "code",
   "execution_count": 33,
   "id": "18b7dbae",
   "metadata": {},
   "outputs": [],
   "source": [
    "questions.to_csv('../csv/output_questions_11072025.csv', index=False)\n",
    "#questions.to_excel('../csv/latest_new_sanketika_questions.xlsx', index=False)\n"
   ]
  },
  {
   "cell_type": "code",
   "execution_count": 34,
   "id": "e03eeef8",
   "metadata": {},
   "outputs": [
    {
     "name": "stderr",
     "output_type": "stream",
     "text": [
      "/var/folders/n5/jcsnh81949zbk42qlkl4drv0mp5l6p/T/ipykernel_1797/2261049740.py:2: FutureWarning: DataFrame.fillna with 'method' is deprecated and will raise in a future version. Use obj.ffill() or obj.bfill() instead.\n",
      "  quiz = quiz.rename(columns=\n"
     ]
    }
   ],
   "source": [
    "quiz = quiz[['Quiz_code', 'Code_Question ']]\n",
    "quiz = quiz.rename(columns=\n",
    "                   {\n",
    "        \"Quiz_code\":\"code\",\n",
    "        \"Code_Question \":\"questions\"\n",
    "    }\n",
    ").dropna(how='all').fillna(method='ffill')"
   ]
  },
  {
   "cell_type": "code",
   "execution_count": 35,
   "id": "873d0c5f",
   "metadata": {},
   "outputs": [
    {
     "data": {
      "text/html": [
       "<div>\n",
       "<style scoped>\n",
       "    .dataframe tbody tr th:only-of-type {\n",
       "        vertical-align: middle;\n",
       "    }\n",
       "\n",
       "    .dataframe tbody tr th {\n",
       "        vertical-align: top;\n",
       "    }\n",
       "\n",
       "    .dataframe thead th {\n",
       "        text-align: right;\n",
       "    }\n",
       "</style>\n",
       "<table border=\"1\" class=\"dataframe\">\n",
       "  <thead>\n",
       "    <tr style=\"text-align: right;\">\n",
       "      <th></th>\n",
       "      <th>code</th>\n",
       "      <th>questions</th>\n",
       "    </tr>\n",
       "  </thead>\n",
       "  <tbody>\n",
       "    <tr>\n",
       "      <th>0</th>\n",
       "      <td>FMPS_C029_QV01</td>\n",
       "      <td>FMPS_C029_QV01_Q_1</td>\n",
       "    </tr>\n",
       "    <tr>\n",
       "      <th>1</th>\n",
       "      <td>FMPS_C029_QV01</td>\n",
       "      <td>FMPS_C029_QV01_Q_2</td>\n",
       "    </tr>\n",
       "    <tr>\n",
       "      <th>2</th>\n",
       "      <td>FMPS_C029_QV01</td>\n",
       "      <td>FMPS_C029_QV01_Q_3</td>\n",
       "    </tr>\n",
       "    <tr>\n",
       "      <th>3</th>\n",
       "      <td>FMPS_C029_QV01</td>\n",
       "      <td>FMPS_C029_QV01_Q_4</td>\n",
       "    </tr>\n",
       "    <tr>\n",
       "      <th>4</th>\n",
       "      <td>FMPS_C029_QV01</td>\n",
       "      <td>FMPS_C029_QV01_Q_5</td>\n",
       "    </tr>\n",
       "    <tr>\n",
       "      <th>...</th>\n",
       "      <td>...</td>\n",
       "      <td>...</td>\n",
       "    </tr>\n",
       "    <tr>\n",
       "      <th>220</th>\n",
       "      <td>FMPS_C032_QV04</td>\n",
       "      <td>FMPS_C032_QV04_Q07</td>\n",
       "    </tr>\n",
       "    <tr>\n",
       "      <th>221</th>\n",
       "      <td>FMPS_C032_QV04</td>\n",
       "      <td>FMPS_C032_QV04_Q08</td>\n",
       "    </tr>\n",
       "    <tr>\n",
       "      <th>222</th>\n",
       "      <td>FMPS_C032_QV04</td>\n",
       "      <td>FMPS_C032_QV04_Q09</td>\n",
       "    </tr>\n",
       "    <tr>\n",
       "      <th>223</th>\n",
       "      <td>FMPS_C032_QV04</td>\n",
       "      <td>FMPS_C032_QV04_Q10</td>\n",
       "    </tr>\n",
       "    <tr>\n",
       "      <th>224</th>\n",
       "      <td>FMPS_C032_QV04</td>\n",
       "      <td>FMPS_C032_QV04_Q11</td>\n",
       "    </tr>\n",
       "  </tbody>\n",
       "</table>\n",
       "<p>225 rows × 2 columns</p>\n",
       "</div>"
      ],
      "text/plain": [
       "               code           questions\n",
       "0    FMPS_C029_QV01  FMPS_C029_QV01_Q_1\n",
       "1    FMPS_C029_QV01  FMPS_C029_QV01_Q_2\n",
       "2    FMPS_C029_QV01  FMPS_C029_QV01_Q_3\n",
       "3    FMPS_C029_QV01  FMPS_C029_QV01_Q_4\n",
       "4    FMPS_C029_QV01  FMPS_C029_QV01_Q_5\n",
       "..              ...                 ...\n",
       "220  FMPS_C032_QV04  FMPS_C032_QV04_Q07\n",
       "221  FMPS_C032_QV04  FMPS_C032_QV04_Q08\n",
       "222  FMPS_C032_QV04  FMPS_C032_QV04_Q09\n",
       "223  FMPS_C032_QV04  FMPS_C032_QV04_Q10\n",
       "224  FMPS_C032_QV04  FMPS_C032_QV04_Q11\n",
       "\n",
       "[225 rows x 2 columns]"
      ]
     },
     "execution_count": 35,
     "metadata": {},
     "output_type": "execute_result"
    }
   ],
   "source": [
    "quiz"
   ]
  },
  {
   "cell_type": "code",
   "execution_count": 36,
   "id": "619783a7",
   "metadata": {},
   "outputs": [],
   "source": [
    "quiz['code'] = quiz['code'].astype(str)\n",
    "content['code'] = content['code'].astype(str)"
   ]
  },
  {
   "cell_type": "code",
   "execution_count": 37,
   "id": "3158097d",
   "metadata": {},
   "outputs": [],
   "source": [
    "x = quiz.to_dict(orient='index')\n",
    "out = {}\n",
    "count = {}\n",
    "a = 0"
   ]
  },
  {
   "cell_type": "code",
   "execution_count": 38,
   "id": "01e65a16",
   "metadata": {},
   "outputs": [
    {
     "data": {
      "text/html": [
       "<div>\n",
       "<style scoped>\n",
       "    .dataframe tbody tr th:only-of-type {\n",
       "        vertical-align: middle;\n",
       "    }\n",
       "\n",
       "    .dataframe tbody tr th {\n",
       "        vertical-align: top;\n",
       "    }\n",
       "\n",
       "    .dataframe thead th {\n",
       "        text-align: right;\n",
       "    }\n",
       "</style>\n",
       "<table border=\"1\" class=\"dataframe\">\n",
       "  <thead>\n",
       "    <tr style=\"text-align: right;\">\n",
       "      <th></th>\n",
       "      <th>code</th>\n",
       "      <th>questions</th>\n",
       "    </tr>\n",
       "  </thead>\n",
       "  <tbody>\n",
       "    <tr>\n",
       "      <th>0</th>\n",
       "      <td>FMPS_C029_QV01</td>\n",
       "      <td>FMPS_C029_QV01_Q_1</td>\n",
       "    </tr>\n",
       "    <tr>\n",
       "      <th>1</th>\n",
       "      <td>FMPS_C029_QV01</td>\n",
       "      <td>FMPS_C029_QV01_Q_2</td>\n",
       "    </tr>\n",
       "    <tr>\n",
       "      <th>2</th>\n",
       "      <td>FMPS_C029_QV01</td>\n",
       "      <td>FMPS_C029_QV01_Q_3</td>\n",
       "    </tr>\n",
       "    <tr>\n",
       "      <th>3</th>\n",
       "      <td>FMPS_C029_QV01</td>\n",
       "      <td>FMPS_C029_QV01_Q_4</td>\n",
       "    </tr>\n",
       "    <tr>\n",
       "      <th>4</th>\n",
       "      <td>FMPS_C029_QV01</td>\n",
       "      <td>FMPS_C029_QV01_Q_5</td>\n",
       "    </tr>\n",
       "    <tr>\n",
       "      <th>...</th>\n",
       "      <td>...</td>\n",
       "      <td>...</td>\n",
       "    </tr>\n",
       "    <tr>\n",
       "      <th>220</th>\n",
       "      <td>FMPS_C032_QV04</td>\n",
       "      <td>FMPS_C032_QV04_Q07</td>\n",
       "    </tr>\n",
       "    <tr>\n",
       "      <th>221</th>\n",
       "      <td>FMPS_C032_QV04</td>\n",
       "      <td>FMPS_C032_QV04_Q08</td>\n",
       "    </tr>\n",
       "    <tr>\n",
       "      <th>222</th>\n",
       "      <td>FMPS_C032_QV04</td>\n",
       "      <td>FMPS_C032_QV04_Q09</td>\n",
       "    </tr>\n",
       "    <tr>\n",
       "      <th>223</th>\n",
       "      <td>FMPS_C032_QV04</td>\n",
       "      <td>FMPS_C032_QV04_Q10</td>\n",
       "    </tr>\n",
       "    <tr>\n",
       "      <th>224</th>\n",
       "      <td>FMPS_C032_QV04</td>\n",
       "      <td>FMPS_C032_QV04_Q11</td>\n",
       "    </tr>\n",
       "  </tbody>\n",
       "</table>\n",
       "<p>225 rows × 2 columns</p>\n",
       "</div>"
      ],
      "text/plain": [
       "               code           questions\n",
       "0    FMPS_C029_QV01  FMPS_C029_QV01_Q_1\n",
       "1    FMPS_C029_QV01  FMPS_C029_QV01_Q_2\n",
       "2    FMPS_C029_QV01  FMPS_C029_QV01_Q_3\n",
       "3    FMPS_C029_QV01  FMPS_C029_QV01_Q_4\n",
       "4    FMPS_C029_QV01  FMPS_C029_QV01_Q_5\n",
       "..              ...                 ...\n",
       "220  FMPS_C032_QV04  FMPS_C032_QV04_Q07\n",
       "221  FMPS_C032_QV04  FMPS_C032_QV04_Q08\n",
       "222  FMPS_C032_QV04  FMPS_C032_QV04_Q09\n",
       "223  FMPS_C032_QV04  FMPS_C032_QV04_Q10\n",
       "224  FMPS_C032_QV04  FMPS_C032_QV04_Q11\n",
       "\n",
       "[225 rows x 2 columns]"
      ]
     },
     "execution_count": 38,
     "metadata": {},
     "output_type": "execute_result"
    }
   ],
   "source": [
    "quiz"
   ]
  },
  {
   "cell_type": "code",
   "execution_count": 39,
   "id": "2cb18fd3",
   "metadata": {},
   "outputs": [],
   "source": [
    "for i in x:\n",
    "    a+=1\n",
    "    if out.get(x[i]['code']) == None:\n",
    "        out[x[i]['code']]  = [x[i]['questions']]\n",
    "        count[x[i]['code']] = 1\n",
    "    else:\n",
    "        out[x[i]['code']].append(x[i]['questions'])\n",
    "        count[x[i]['code']] += 1\n",
    "\n",
    "for i in out:\n",
    "    out[i] = ','.join(out[i])"
   ]
  },
  {
   "cell_type": "code",
   "execution_count": 40,
   "id": "02f81ad3",
   "metadata": {},
   "outputs": [],
   "source": [
    "quiz = pd.DataFrame.from_dict(out, orient='index').reset_index()\n",
    "quiz.columns = ['code', 'questions']\n",
    "quiz = quiz.merge(content, on='code', how='left')\n",
    "quiz['max_attempts'] = 2\n",
    "quiz['language'] = 'Arabic'\n",
    "quiz['quiz_type'] = 'practice'"
   ]
  },
  {
   "cell_type": "code",
   "execution_count": 41,
   "id": "8b52ede9",
   "metadata": {},
   "outputs": [],
   "source": [
    "quiz['quiz_name'] = quiz.apply(lambda row: row['code'] if pd.isna(row['quiz_name']) else row['quiz_name'], axis=1)"
   ]
  },
  {
   "cell_type": "code",
   "execution_count": 42,
   "id": "5e0b97b8",
   "metadata": {},
   "outputs": [],
   "source": [
    "quiz.drop_duplicates(subset=['code'], inplace=True)\n",
    "quiz.to_csv('../csv/output_quiz_11072025.csv', index=False)\n",
    "#quiz.to_excel('../csv/latest_new_sanketika_quiz.xlsx', index=False)"
   ]
  }
 ],
 "metadata": {
  "kernelspec": {
   "display_name": "Python 3",
   "language": "python",
   "name": "python3"
  },
  "language_info": {
   "codemirror_mode": {
    "name": "ipython",
    "version": 3
   },
   "file_extension": ".py",
   "mimetype": "text/x-python",
   "name": "python",
   "nbconvert_exporter": "python",
   "pygments_lexer": "ipython3",
   "version": "3.9.6"
  }
 },
 "nbformat": 4,
 "nbformat_minor": 5
}
