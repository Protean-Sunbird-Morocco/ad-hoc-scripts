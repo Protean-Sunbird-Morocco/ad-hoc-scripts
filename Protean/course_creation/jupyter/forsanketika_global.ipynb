{
 "cells": [
  {
   "cell_type": "code",
   "execution_count": 55,
   "id": "5338cc11",
   "metadata": {},
   "outputs": [],
   "source": [
    "# !! pip3 install openpyxl\n",
    "import pandas as pd\n"
   ]
  },
  {
   "cell_type": "code",
   "execution_count": 56,
   "id": "93e0678b",
   "metadata": {},
   "outputs": [
    {
     "data": {
      "text/plain": [
       "Index(['COURSE_CODE', 'COURSE_TITLE', 'QUIZ GLOBAL TITLE ', 'GLOBAL QUIZ_CODE',\n",
       "       'GLOBAL QUIZ QUESTION_CODE', 'Quiz', 'option 1', 'answer', 'option2',\n",
       "       'answer.1', 'option 4', 'answer.2', 'option5', 'answer.3', 'option6',\n",
       "       'answer.4', 'option7', 'answer.5', 'Unnamed: 18', 'Unnamed: 19',\n",
       "       'Unnamed: 20', 'Unnamed: 21', 'Unnamed: 22', 'Unnamed: 23',\n",
       "       'Unnamed: 24', 'Unnamed: 25', 'Unnamed: 26', 'Unnamed: 27'],\n",
       "      dtype='object')"
      ]
     },
     "execution_count": 56,
     "metadata": {},
     "output_type": "execute_result"
    }
   ],
   "source": [
    "# quiz = pd.read_csv('../csv/new_global_quiz.csv')\n",
    "quiz = pd.read_csv('../csv/latest_new_global_quiz.csv')\n",
    "quiz = quiz.replace('\\n', '', regex=True)\n",
    "quiz.columns"
   ]
  },
  {
   "cell_type": "code",
   "execution_count": 57,
   "id": "3f1455da",
   "metadata": {},
   "outputs": [],
   "source": [
    "quiz['GLOBAL QUIZ_CODE'] = quiz['GLOBAL QUIZ_CODE'].apply(lambda x: x+'_002')\n",
    "quiz['GLOBAL QUIZ QUESTION_CODE'] = quiz['GLOBAL QUIZ QUESTION_CODE'].astype(str)\n",
    "quiz['GLOBAL QUIZ QUESTION_CODE'] = quiz['GLOBAL QUIZ QUESTION_CODE'].apply(lambda x: x+'_002')\n"
   ]
  },
  {
   "cell_type": "code",
   "execution_count": 58,
   "id": "fd3788d0",
   "metadata": {},
   "outputs": [],
   "source": [
    "quiz = quiz[['QUIZ GLOBAL TITLE ', 'GLOBAL QUIZ_CODE',\n",
    "       'GLOBAL QUIZ QUESTION_CODE', 'Quiz', 'option 1', 'answer', 'option2',\n",
    "       'answer.1', 'option 4', 'answer.2', 'option5', 'answer.3', 'option6',\n",
    "       'answer.4', 'option7', 'answer.5']]"
   ]
  },
  {
   "cell_type": "code",
   "execution_count": 59,
   "id": "75fa6668",
   "metadata": {},
   "outputs": [],
   "source": [
    "quiz.dropna(inplace=True,how='all')\n",
    "quiz.dropna(subset=['Quiz','option 1','answer'], inplace=True)"
   ]
  },
  {
   "cell_type": "code",
   "execution_count": 60,
   "id": "0e38a915",
   "metadata": {},
   "outputs": [],
   "source": [
    "quiz.rename(columns={\n",
    "    'QUIZ GLOBAL TITLE ': 'quiz_name',\n",
    "    'GLOBAL QUIZ_CODE': 'code',\n",
    "    'GLOBAL QUIZ QUESTION_CODE': 'question_code',\n",
    "    'Quiz': 'question_text',\n",
    "    'option 1': 'option_1',\n",
    "    'answer': 'option_1_is_correct',\n",
    "    'option2': 'option_2',\n",
    "    'answer.1': 'option_2_is_correct',\n",
    "    'option 4': 'option_3',\n",
    "    'answer.2': 'option_3_is_correct',\n",
    "    'option5': 'option_4',\n",
    "    'answer.3': 'option_4_is_correct',\n",
    "    'option6': 'option_5',\n",
    "    'answer.4': 'option_5_is_correct',\n",
    "    'option7': 'option_6',\n",
    "    'answer.5': 'option_6_is_correct'\n",
    "}, inplace=True)"
   ]
  },
  {
   "cell_type": "code",
   "execution_count": 61,
   "id": "9e1719a1",
   "metadata": {
    "vscode": {
     "languageId": "javascript"
    }
   },
   "outputs": [],
   "source": [
    "questions = quiz[['question_code', 'question_text', 'option_1',\n",
    "       'option_1_is_correct', 'option_2', 'option_2_is_correct', 'option_3',\n",
    "       'option_3_is_correct', 'option_4', 'option_4_is_correct', 'option_5',\n",
    "       'option_5_is_correct', 'option_6', 'option_6_is_correct']].rename(columns={\n",
    "           'question_code': 'code',\n",
    "       })\n",
    "questions['score']  = 1\n",
    "questions = questions.replace('\\n', '', regex=True)"
   ]
  },
  {
   "cell_type": "code",
   "execution_count": 62,
   "id": "93e819a0",
   "metadata": {},
   "outputs": [
    {
     "data": {
      "text/plain": [
       "Index(['code', 'question_text', 'option_1', 'option_1_is_correct', 'option_2',\n",
       "       'option_2_is_correct', 'option_3', 'option_3_is_correct', 'option_4',\n",
       "       'option_4_is_correct', 'option_5', 'option_5_is_correct', 'option_6',\n",
       "       'option_6_is_correct', 'score'],\n",
       "      dtype='object')"
      ]
     },
     "execution_count": 62,
     "metadata": {},
     "output_type": "execute_result"
    }
   ],
   "source": [
    "questions.to_excel('../csv/latest_new_sanketika_global_questions.xlsx', index=False)\n",
    "questions.to_csv('../csv/latest_new_sanketika_global_questions.csv', index=False)\n",
    "questions.columns"
   ]
  },
  {
   "cell_type": "code",
   "execution_count": 63,
   "id": "a05dd245",
   "metadata": {},
   "outputs": [],
   "source": [
    "quiz = quiz[['quiz_name', 'code','question_code']].rename(columns={\n",
    "    'question_code': 'questions'\n",
    "})\n"
   ]
  },
  {
   "cell_type": "code",
   "execution_count": 64,
   "id": "61eb2f6c",
   "metadata": {},
   "outputs": [],
   "source": [
    "quiz = quiz.groupby(['code','quiz_name'])['questions'] \\\n",
    "    .apply(lambda x: ','.join(x.astype(str))).reset_index()\n",
    "quiz['max_attempts'] = 2\n",
    "quiz['language'] = 'Arabic'\n",
    "quiz['quiz_type'] = 'assess'\n"
   ]
  },
  {
   "cell_type": "code",
   "execution_count": 65,
   "id": "daf26fbd",
   "metadata": {},
   "outputs": [
    {
     "data": {
      "text/plain": [
       "Index(['code', 'quiz_name', 'questions', 'max_attempts', 'language',\n",
       "       'quiz_type'],\n",
       "      dtype='object')"
      ]
     },
     "execution_count": 65,
     "metadata": {},
     "output_type": "execute_result"
    }
   ],
   "source": [
    "quiz.to_excel('../csv/latest_new_sanketika_global_quiz.xlsx', index=False)\n",
    "quiz.to_csv('../csv/latest_new_sanketika_global_quiz.csv', index=False)\n",
    "quiz.columns"
   ]
  },
  {
   "cell_type": "code",
   "execution_count": null,
   "id": "e467f79a",
   "metadata": {},
   "outputs": [],
   "source": []
  }
 ],
 "metadata": {
  "kernelspec": {
   "display_name": ".venv",
   "language": "python",
   "name": "python3"
  },
  "language_info": {
   "codemirror_mode": {
    "name": "ipython",
    "version": 3
   },
   "file_extension": ".py",
   "mimetype": "text/x-python",
   "name": "python",
   "nbconvert_exporter": "python",
   "pygments_lexer": "ipython3",
   "version": "3.13.3"
  }
 },
 "nbformat": 4,
 "nbformat_minor": 5
}
